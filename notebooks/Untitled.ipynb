{
 "cells": [
  {
   "cell_type": "code",
   "execution_count": 2,
   "id": "9b85d180-7e3d-4595-8f34-bea8e4606ad0",
   "metadata": {},
   "outputs": [],
   "source": [
    "# библиотеки\n",
    "import os\n",
    "import tensorflow as tf"
   ]
  },
  {
   "cell_type": "code",
   "execution_count": 4,
   "id": "c41a7f14-7167-48d5-85da-3bd8cce396c3",
   "metadata": {},
   "outputs": [],
   "source": [
    "# константы\n",
    "DATA_DIR = '/tf/data'\n",
    "NOTEBOOKS_DIR = '/tf/notebooks'"
   ]
  },
  {
   "cell_type": "code",
   "execution_count": 5,
   "id": "196a0353-c923-43a3-821d-e1715fb50778",
   "metadata": {},
   "outputs": [
    {
     "name": "stdout",
     "output_type": "stream",
     "text": [
      "Файлы данных: ['txt.txtx']\n",
      "Ноутбуки: ['Untitled.ipynb', '.ipynb_checkpoints']\n"
     ]
    }
   ],
   "source": [
    "# проверка наличия в папках файлов\n",
    "print(f'Файлы данных: {os.listdir(DATA_DIR)}')\n",
    "print(f'Ноутбуки: {os.listdir(NOTEBOOKS_DIR)}')"
   ]
  },
  {
   "cell_type": "code",
   "execution_count": 7,
   "id": "d3547331-4bae-4a5d-aacb-8d421aba2e61",
   "metadata": {},
   "outputs": [
    {
     "name": "stdout",
     "output_type": "stream",
     "text": [
      "[PhysicalDevice(name='/physical_device:GPU:0', device_type='GPU')]\n"
     ]
    }
   ],
   "source": [
    "# Проверка подключения tensorflow к GPU\n",
    "print(tf.config.list_physical_devices('GPU'))"
   ]
  },
  {
   "cell_type": "code",
   "execution_count": 8,
   "id": "f06d0874-44d0-41c1-b6eb-7aeefc0a9482",
   "metadata": {},
   "outputs": [
    {
     "name": "stdout",
     "output_type": "stream",
     "text": [
      "my_syper_secret\n"
     ]
    }
   ],
   "source": [
    "# Проверка значений переменных окружения\n",
    "print(os.environ['SUPER_SECRET'])"
   ]
  },
  {
   "cell_type": "code",
   "execution_count": 9,
   "id": "eab2d786-b481-49d5-adce-023190b1f263",
   "metadata": {},
   "outputs": [
    {
     "name": "stdout",
     "output_type": "stream",
     "text": [
      "Untitled.ipynb\n"
     ]
    }
   ],
   "source": [
    "!ls"
   ]
  },
  {
   "cell_type": "code",
   "execution_count": 10,
   "id": "45df5fe4-c862-4d06-a7d1-4d9c10ca810c",
   "metadata": {},
   "outputs": [],
   "source": [
    "!mkdir test_folder"
   ]
  },
  {
   "cell_type": "code",
   "execution_count": 11,
   "id": "0985cc48-c28f-42ba-babe-84b0aff0cf95",
   "metadata": {},
   "outputs": [
    {
     "name": "stdout",
     "output_type": "stream",
     "text": [
      "Untitled.ipynb\ttest_folder\n"
     ]
    }
   ],
   "source": [
    "!ls"
   ]
  },
  {
   "cell_type": "code",
   "execution_count": 12,
   "id": "3163222b-c14e-4dbb-86fa-2c1bd2a3319f",
   "metadata": {},
   "outputs": [
    {
     "name": "stdout",
     "output_type": "stream",
     "text": [
      "total 8\n",
      "-rw-r--r-- 1 root root 2559 Oct 19 08:14 Untitled.ipynb\n",
      "drwxr-xr-x 2 root root 4096 Oct 19 08:34 test_folder\n"
     ]
    }
   ],
   "source": [
    "!ls -l"
   ]
  },
  {
   "cell_type": "code",
   "execution_count": null,
   "id": "7482022a-70be-4422-b976-aa154c48fb86",
   "metadata": {},
   "outputs": [],
   "source": []
  }
 ],
 "metadata": {
  "kernelspec": {
   "display_name": "Python 3 (ipykernel)",
   "language": "python",
   "name": "python3"
  },
  "language_info": {
   "codemirror_mode": {
    "name": "ipython",
    "version": 3
   },
   "file_extension": ".py",
   "mimetype": "text/x-python",
   "name": "python",
   "nbconvert_exporter": "python",
   "pygments_lexer": "ipython3",
   "version": "3.10.12"
  }
 },
 "nbformat": 4,
 "nbformat_minor": 5
}
